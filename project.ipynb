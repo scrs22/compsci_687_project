{
 "cells": [
  {
   "cell_type": "code",
   "execution_count": 66,
   "metadata": {},
   "outputs": [],
   "source": [
    "import pandas as pd\n",
    "import numpy as np\n",
    "from scipy import stats\n",
    "from rl687.policies.Linear_Softmax import LinearSoftmax\n",
    "import csv\n",
    "from sklearn.model_selection import train_test_split\n",
    "import cma"
   ]
  },
  {
   "cell_type": "code",
   "execution_count": 67,
   "metadata": {},
   "outputs": [],
   "source": [
    "class data_preprocess:\n",
    "    def __init__(self,data_path,num_batches=5):\n",
    "        self.path=data_path\n",
    "        self.num_batches=num_batches\n",
    "        data=[]\n",
    "        with open(self.path,newline='',encoding='utf-8') as csv_file:\n",
    "            file=csv.reader(csv_file,delimiter=',')\n",
    "            for i, H in enumerate(file):\n",
    "                data.append(H)\n",
    "        self.data=np.asarray(data)\n",
    "        self.data_batches=[]\n",
    "        self.N=200000\n",
    "        x=self.N//num_batches\n",
    "        for i in range(num_batches):\n",
    "            start=i*x\n",
    "            end=start+x if start+x<=200000 else 200000\n",
    "            self.data_batches.append(self.data[start:end])\n",
    "        self.D_s=[]\n",
    "        self.D_c=[]\n",
    "        \n",
    "    def split_data(self,split):\n",
    "        for i in range(self.num_batches):\n",
    "            D_c, D_s = train_test_split(self.data_batches[i],test_size=split)\n",
    "            self.D_c.append(D_c)\n",
    "            self.D_s.append(D_s)\n",
    "\n",
    "\n",
    "        \n",
    "    "
   ]
  },
  {
   "cell_type": "code",
   "execution_count": 68,
   "metadata": {},
   "outputs": [],
   "source": [
    "class HCOPE():\n",
    "    def __init__(self,D_c,theta_b,num_actions,num_features,order,n_Ds,delta,lower_bound):\n",
    "            self.D_c=D_c\n",
    "            self.theta_b=theta_b\n",
    "            self.num_actions=num_actions\n",
    "            self.num_state_features=num_features\n",
    "            self.order=order\n",
    "            self.Ds_size=n_Ds\n",
    "            self.delta=delta\n",
    "            self.b=lower_bound\n",
    "            self.pb=LinearSoftmax(self.num_actions,self.order, self.num_state_features,0.001,self.theta_b,sigma=1)\n",
    "    \n",
    "    def PDIS(self,H,pe):\n",
    "        prev_prod=1\n",
    "        pdis=0\n",
    "        for i in range(len(H)//3):\n",
    "            s=np.float(H[i*3])\n",
    "            #print(i)\n",
    "            a=int(H[i*3+1])\n",
    "            r=np.float(H[i*3+2])\n",
    "            #print(pe.policy(s,a))\n",
    "            prod=(float(pe.policy(s,a))/float(self.pb.policy(s,a)))*prev_prod\n",
    "            pdis+=r*prod\n",
    "            prev_prod=prod\n",
    "        return pdis\n",
    "    \n",
    "    def thetaTopolicy(self,theta):\n",
    "        p=LinearSoftmax(self.num_actions,self.order, self.num_state_features,0.001,theta,sigma=1)\n",
    "        #p.theta=theta\n",
    "        return p\n",
    "    \n",
    "    def estimate_J(self,data,theta_e):\n",
    "        policy_b=self.thetaTopolicy(self.theta_b)\n",
    "        policy_e=self.thetaTopolicy(theta_e)\n",
    "        J=0\n",
    "        pdis_list=[]\n",
    "        n=data.shape[0]\n",
    "        for H in data:\n",
    "            pdis_H=self.PDIS(H,policy_e)\n",
    "            J+=pdis_H\n",
    "            pdis_list.append(pdis_H)\n",
    "        J/=n\n",
    "        pdis_list=np.array(pdis_list)\n",
    "        return J,pdis_list\n",
    "    \n",
    "    def ssd(self,J,pdis_list):\n",
    "        n=len(pdis_list)\n",
    "        return ((np.sum((pdis_list-J)**2)/(n-1))**(0.5))\n",
    "\n",
    "    def student_t_test(self,D,theta_e):\n",
    "        J,PDIS_list=self.estimate_J(D,theta_e)\n",
    "        std=self.ssd(J,PDIS_list)\n",
    "        n=len(PDIS_list)\n",
    "        return (J-((std/n**(0.5))*stats.t.ppf(1-self.delta,n-1)))\n",
    "    \n",
    "    def optimise_PDIS(self,theta_e):\n",
    "        J,PDIS_list=self.estimate_J(self.D_c,theta_e)\n",
    "        std=self.ssd(J,PDIS_list)\n",
    "        g=J-2*((std/self.Ds_size**(0.5))*stats.t.ppf(1-self.delta,self.Ds_size-1))\n",
    "        if g<self.b:\n",
    "            return 10000\n",
    "        else: return -J\n",
    "           "
   ]
  },
  {
   "cell_type": "code",
   "execution_count": 69,
   "metadata": {},
   "outputs": [],
   "source": [
    "def CMAES_policy(D_c, theta_e,theta_b,num_actions,num_features,order,n_Ds,delta,b):\n",
    "    pdis = HCOPE(D_c,theta_b,num_actions,num_features,order,n_Ds,delta,b)\n",
    "    es = cma.CMAEvolutionStrategy(theta_b, 1.0)\n",
    "    ret = es.optimize(pdis.optimise_PDIS)\n",
    "    print(es.result_pretty())\n",
    "    return ret"
   ]
  },
  {
   "cell_type": "code",
   "execution_count": 70,
   "metadata": {},
   "outputs": [],
   "source": [
    "num_a=2\n",
    "num_dims=1\n",
    "order=1\n",
    "theta_e=np.array([1,1,0.01,-0.01])\n",
    "theta_b=np.array([0.01,-0.01,1,1])\n",
    "delta=0.04\n",
    "b=1"
   ]
  },
  {
   "cell_type": "code",
   "execution_count": 71,
   "metadata": {},
   "outputs": [],
   "source": [
    "data=data_preprocess('data.csv',1)\n",
    "data.split_data(0.3)"
   ]
  },
  {
   "cell_type": "code",
   "execution_count": 72,
   "metadata": {},
   "outputs": [],
   "source": [
    "\n",
    "D_c=data.D_c[0]\n",
    "D_s=data.D_s[0]\n",
    "n_Ds=len(D_s)"
   ]
  },
  {
   "cell_type": "code",
   "execution_count": null,
   "metadata": {},
   "outputs": [
    {
     "name": "stdout",
     "output_type": "stream",
     "text": [
      "(4_w,8)-aCMA-ES (mu_w=2.6,w_1=52%) in dimension 4 (seed=358473, Fri Dec 13 03:26:57 2019)\n",
      "Iterat #Fevals   function value  axis ratio  sigma  min&max std  t[m:s]\n",
      "    1      8 -1.060232103814293e+01 1.0e+00 1.15e+00  1e+00  1e+00 1:20.5\n",
      "    2     16 -1.332411941103739e+01 1.5e+00 1.55e+00  2e+00  2e+00 2:43.4\n",
      "    3     24 -1.415148570931315e+01 1.7e+00 1.86e+00  2e+00  3e+00 4:00.9\n",
      "    4     32 -1.430537938602692e+01 2.0e+00 2.41e+00  2e+00  4e+00 5:21.3\n",
      "    5     40 -1.430803829334102e+01 2.3e+00 3.09e+00  2e+00  5e+00 6:40.5\n",
      "    6     48 -1.430806148371529e+01 2.9e+00 4.02e+00  3e+00  7e+00 7:57.9\n",
      "    7     56 -1.430806148561103e+01 3.3e+00 5.77e+00  4e+00  1e+01 9:22.6\n",
      "    8     64 -1.430806148561121e+01 3.4e+00 7.83e+00  6e+00  1e+01 10:41.9\n"
     ]
    }
   ],
   "source": [
    "param=CMAES_policy(D_c, theta_e,theta_b,num_a,num_dims,order,n_Ds,delta,b)"
   ]
  },
  {
   "cell_type": "code",
   "execution_count": null,
   "metadata": {},
   "outputs": [],
   "source": [
    "print(param.result_pretty())"
   ]
  },
  {
   "cell_type": "code",
   "execution_count": 36,
   "metadata": {},
   "outputs": [
    {
     "ename": "SyntaxError",
     "evalue": "invalid character in identifier (<ipython-input-36-46db6b4ceedd>, line 5)",
     "output_type": "error",
     "traceback": [
      "\u001b[0;36m  File \u001b[0;32m\"<ipython-input-36-46db6b4ceedd>\"\u001b[0;36m, line \u001b[0;32m5\u001b[0m\n\u001b[0;31m    [10.22528905, 8.28499955, -0.93434349, -9.96264375]\u001b[0m\n\u001b[0m                  ^\u001b[0m\n\u001b[0;31mSyntaxError\u001b[0m\u001b[0;31m:\u001b[0m invalid character in identifier\n"
     ]
    }
   ],
   "source": [
    "#policies \n",
    "[0.6627, 0.9739, -0.9077, -0.9822]\n",
    "[1,1,-1,-1]\n",
    "[1.4950253 , 1.38426051,  -2.05568217, -0.69637852]\n",
    "[10.22528905, 8.28499955, -0.93434349, -9.96264375]"
   ]
  },
  {
   "cell_type": "code",
   "execution_count": 49,
   "metadata": {},
   "outputs": [
    {
     "name": "stdout",
     "output_type": "stream",
     "text": [
      "6.39792703206637\n"
     ]
    }
   ],
   "source": [
    "#test on safety dataset\n",
    "theta_e=np.asarray([1.4950253 , 1.38426051,  -2.05568217, -0.69637852])\n",
    "D_s=data.D_s[0]\n",
    "test=HCOPE(D_c,theta_b,num_a,num_dims,order,n_Ds,0.01,b)\n",
    "print(test.student_t_test(D_s,theta_e))"
   ]
  },
  {
   "cell_type": "code",
   "execution_count": null,
   "metadata": {},
   "outputs": [],
   "source": []
  }
 ],
 "metadata": {
  "kernelspec": {
   "display_name": "Python 3",
   "language": "python",
   "name": "python3"
  },
  "language_info": {
   "codemirror_mode": {
    "name": "ipython",
    "version": 3
   },
   "file_extension": ".py",
   "mimetype": "text/x-python",
   "name": "python",
   "nbconvert_exporter": "python",
   "pygments_lexer": "ipython3",
   "version": "3.7.4"
  }
 },
 "nbformat": 4,
 "nbformat_minor": 2
}
