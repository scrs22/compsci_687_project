{
 "cells": [
  {
   "cell_type": "code",
   "execution_count": 7,
   "metadata": {},
   "outputs": [],
   "source": [
    "import pandas as pd\n",
    "import numpy as np\n",
    "from scipy import stats\n",
    "from rl687.policies.Linear_Softmax import LinearSoftmax\n",
    "import csv\n",
    "from sklearn.model_selection import train_test_split\n",
    "import cma"
   ]
  },
  {
   "cell_type": "code",
   "execution_count": 8,
   "metadata": {},
   "outputs": [],
   "source": [
    "class data_preprocess:\n",
    "    def __init__(self,data_path):\n",
    "        self.path=data_path\n",
    "        data=[]\n",
    "        with open(self.path,newline='',encoding='utf-8') as csv_file:\n",
    "            file=csv.reader(csv_file,delimiter=',')\n",
    "            for i, H in enumerate(file):\n",
    "                data.append(H)\n",
    "        self.data=np.asarray(data)\n",
    "        #self.data=self.data[0:10000,]\n",
    "        self.D_s=None\n",
    "        self.D_c=None\n",
    "        \n",
    "    def split_data(self,split):\n",
    "        self.D_c,  self.D_s = train_test_split(self.data,test_size=split)\n",
    "\n",
    "\n",
    "        \n",
    "    "
   ]
  },
  {
   "cell_type": "code",
   "execution_count": 9,
   "metadata": {},
   "outputs": [],
   "source": [
    "class HCOPE():\n",
    "    def __init__(self,D_c,theta_b,num_actions,num_features,order,n_Ds,delta,lower_bound):\n",
    "            self.D_c=D_c\n",
    "            self.theta_b=theta_b\n",
    "            self.num_actions=num_actions\n",
    "            self.num_state_features=num_features\n",
    "            self.order=order\n",
    "            self.Ds_size=n_Ds\n",
    "            self.delta=delta\n",
    "            self.b=lower_bound\n",
    "            self.pb=LinearSoftmax(self.num_actions,self.order, self.num_state_features,0.001,self.theta_b,sigma=1)\n",
    "    \n",
    "    def PDIS(self,H,pe):\n",
    "        prev_prod=1\n",
    "        pdis=0\n",
    "        for i in range(len(H)//3):\n",
    "            s=np.float(H[i*3])\n",
    "            #print(i)\n",
    "            a=int(H[i*3+1])\n",
    "            r=np.float(H[i*3+2])\n",
    "            #print(pe.policy(s,a))\n",
    "            prod=(float(pe.policy(s,a))/float(self.pb.policy(s,a)))*prev_prod\n",
    "            pdis+=r*prod\n",
    "            prev_prod=prod\n",
    "        return pdis\n",
    "    \n",
    "    def thetaTopolicy(self,theta):\n",
    "        p=LinearSoftmax(self.num_actions,self.order, self.num_state_features,0.001,theta,sigma=1)\n",
    "        #p.theta=theta\n",
    "        return p\n",
    "    \n",
    "    def estimate_J(self,data,theta_e):\n",
    "        policy_b=self.thetaTopolicy(self.theta_b)\n",
    "        policy_e=self.thetaTopolicy(theta_e)\n",
    "        J=0\n",
    "        pdis_list=[]\n",
    "        n=data.shape[0]\n",
    "        for H in data:\n",
    "            pdis_H=self.PDIS(H,policy_e)\n",
    "            J+=pdis_H\n",
    "            pdis_list.append(pdis_H)\n",
    "        J/=n\n",
    "        pdis_list=np.array(pdis_list)\n",
    "        return J,pdis_list\n",
    "    \n",
    "    def ssd(self,J,pdis_list):\n",
    "        n=len(pdis_list)\n",
    "        return ((np.sum((pdis_list-J)**2)/(n-1))**(0.5))\n",
    "\n",
    "    def student_t_test(self,D,theta_e):\n",
    "        J,PDIS_list=self.estimate_J(D,theta_e)\n",
    "        std=self.ssd(J,PDIS_list)\n",
    "        n=len(PDIS_list)\n",
    "        return (J-((std/n**(0.5))*stats.t.ppf(1-self.delta,n-1)))\n",
    "    \n",
    "    def optimise_PDIS(self,theta_e):\n",
    "        J,PDIS_list=self.estimate_J(self.D_c,theta_e)\n",
    "        std=self.ssd(J,PDIS_list)\n",
    "        g=J-2*((std/self.Ds_size**(0.5))*stats.t.ppf(1-self.delta,self.Ds_size-1))\n",
    "        if g<self.b:\n",
    "            return np.NINF\n",
    "        else: return J\n",
    "           "
   ]
  },
  {
   "cell_type": "code",
   "execution_count": 10,
   "metadata": {},
   "outputs": [],
   "source": [
    "def CMAES_policy(D_c, theta_e,theta_b,num_actions,num_features,order,n_Ds,delta,b):\n",
    "    pdis = HCOPE(D_c,theta_b,num_actions,num_features,order,n_Ds,delta,b)\n",
    "    es = cma.CMAEvolutionStrategy(theta_e, 1.0)\n",
    "    ret = es.optimize(pdis.optimise_PDIS)\n",
    "    print(es.result_pretty())\n",
    "    return ret"
   ]
  },
  {
   "cell_type": "code",
   "execution_count": 11,
   "metadata": {},
   "outputs": [],
   "source": [
    "num_a=2\n",
    "num_dims=1\n",
    "order=1\n",
    "theta_e=np.array([1,1,0.01,-0.01])\n",
    "theta_b=np.array([0.01,-0.01,1,1])\n",
    "delta=0.04\n",
    "b=1"
   ]
  },
  {
   "cell_type": "code",
   "execution_count": 12,
   "metadata": {},
   "outputs": [],
   "source": [
    "data=data_preprocess('data.csv')\n",
    "data.split_data(0.3)\n",
    "D_c=data.data\n",
    "D_s=data.D_s\n",
    "n_Ds=len(D_s)"
   ]
  },
  {
   "cell_type": "code",
   "execution_count": null,
   "metadata": {},
   "outputs": [
    {
     "name": "stdout",
     "output_type": "stream",
     "text": [
      "(4_w,8)-aCMA-ES (mu_w=2.6,w_1=52%) in dimension 4 (seed=237080, Fri Dec 13 00:20:18 2019)\n",
      "Iterat #Fevals   function value  axis ratio  sigma  min&max std  t[m:s]\n",
      "    1      8 1.584072670013762e+00 1.0e+00 1.01e+00  9e-01  1e+00 9:11.0\n",
      "    2     16 -inf 1.4e+00 1.15e+00  1e+00  1e+00 18:42.3\n"
     ]
    },
    {
     "name": "stderr",
     "output_type": "stream",
     "text": [
      "/Users/shruti/opt/anaconda3/lib/python3.7/site-packages/cma/utilities/utils.py:333: UserWarning: function values with index [0, 4, 5, 6, 7] are not finite but [-inf, -inf, -inf, -inf, -inf]. (class=CMAEvolutionStrategy method=ask iteration=1)\n",
      "  ')')\n"
     ]
    }
   ],
   "source": [
    "param=CMAES_policy(D_c, theta_e,theta_b,num_a,num_dims,order,n_Ds,delta,b)"
   ]
  },
  {
   "cell_type": "code",
   "execution_count": null,
   "metadata": {},
   "outputs": [],
   "source": [
    "print(param.result_pretty())"
   ]
  },
  {
   "cell_type": "code",
   "execution_count": null,
   "metadata": {},
   "outputs": [],
   "source": [
    "#policies \n",
    "[0.6627, 0.9739, -0.9077, -0.9822]\n",
    "[1,1,-1,-1]\n",
    "[]"
   ]
  }
 ],
 "metadata": {
  "kernelspec": {
   "display_name": "Python 3",
   "language": "python",
   "name": "python3"
  },
  "language_info": {
   "codemirror_mode": {
    "name": "ipython",
    "version": 3
   },
   "file_extension": ".py",
   "mimetype": "text/x-python",
   "name": "python",
   "nbconvert_exporter": "python",
   "pygments_lexer": "ipython3",
   "version": "3.7.4"
  }
 },
 "nbformat": 4,
 "nbformat_minor": 2
}
